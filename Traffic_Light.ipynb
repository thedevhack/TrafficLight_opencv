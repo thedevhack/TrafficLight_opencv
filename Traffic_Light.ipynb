{
 "cells": [
  {
   "cell_type": "code",
   "execution_count": 12,
   "metadata": {},
   "outputs": [
    {
     "name": "stdout",
     "output_type": "stream",
     "text": [
      "Requirement already satisfied: opencv-python in c:\\users\\ansu\\anaconda3\\lib\\site-packages (4.5.3.56)\n",
      "Requirement already satisfied: numpy>=1.14.5 in c:\\users\\ansu\\anaconda3\\lib\\site-packages (from opencv-python) (1.18.1)\n"
     ]
    }
   ],
   "source": [
    "!pip install opencv-python"
   ]
  },
  {
   "cell_type": "code",
   "execution_count": 27,
   "metadata": {},
   "outputs": [],
   "source": [
    "import xml.etree.ElementTree as ET\n",
    "import os\n",
    "def read_content(xml_file: str):\n",
    "\n",
    "    tree = ET.parse(xml_file)\n",
    "    root = tree.getroot()\n",
    "\n",
    "    list_with_all_boxes = []\n",
    "\n",
    "    for boxes in root.iter('object'):\n",
    "\n",
    "        filename = root.find('filename').text\n",
    "\n",
    "        ymin, xmin, ymax, xmax = None, None, None, None\n",
    "        name = boxes.find(\"name\").text\n",
    "        ymin = int(float(boxes.find(\"bndbox/ymin\").text))\n",
    "        xmin = int(float(boxes.find(\"bndbox/xmin\").text))\n",
    "        ymax = int(float(boxes.find(\"bndbox/ymax\").text))\n",
    "        xmax = int(float(boxes.find(\"bndbox/xmax\").text))\n",
    "\n",
    "        list_with_single_boxes = [name, xmin, ymin, xmax, ymax]\n",
    "        list_with_all_boxes.append(list_with_single_boxes)\n",
    "\n",
    "    return filename, list_with_all_boxes\n"
   ]
  },
  {
   "cell_type": "code",
   "execution_count": 41,
   "metadata": {},
   "outputs": [],
   "source": [
    "import cv2\n",
    "files = os.listdir('C:/Users/ANSU/Desktop/Traffic/annotations/')\n",
    "for file in files:\n",
    "    name, boxes = read_content('C:/Users/ANSU/Desktop/Traffic/annotations/' + file)\n",
    "    img_name = file.split(\".\", 1)\n",
    "    file = img_name[0]\n",
    "    for extension in [\"jpg\", \"png\", \"jpeg\"]:\n",
    "        if os.path.exists('C:/Users/ANSU/Desktop/Traffic/images/' + file + '.' +  extension):\n",
    "            path = r'C:/Users/ANSU/Desktop/Traffic/images/' + file + '.' + extension\n",
    "            image = cv2.imread(path)\n",
    "\n",
    "            for coords in boxes:\n",
    "                window_name = coords[0]\n",
    "                start_point = (coords[1], coords[2])\n",
    "                end_point = (coords[3], coords[4])\n",
    "                color = (255, 0, 0)\n",
    "                thickness = 2\n",
    "                image = cv2.rectangle(image, start_point, end_point, color, thickness)\n",
    "                image = cv2.putText(image, window_name, (coords[1]-25, coords[2]-10), cv2.FONT_HERSHEY_SIMPLEX, 1,(36,255,12), 1, cv2.LINE_AA, False)\n",
    "\n",
    "            filename = 'C:/Users/ANSU/Desktop/Traffic/output/' + img_name[0] + '_output' +'.jpg'\n",
    "            cv2.imwrite(filename, image)\n",
    "    "
   ]
  },
  {
   "cell_type": "code",
   "execution_count": null,
   "metadata": {},
   "outputs": [],
   "source": []
  }
 ],
 "metadata": {
  "kernelspec": {
   "display_name": "Python 3",
   "language": "python",
   "name": "python3"
  },
  "language_info": {
   "codemirror_mode": {
    "name": "ipython",
    "version": 3
   },
   "file_extension": ".py",
   "mimetype": "text/x-python",
   "name": "python",
   "nbconvert_exporter": "python",
   "pygments_lexer": "ipython3",
   "version": "3.7.6"
  }
 },
 "nbformat": 4,
 "nbformat_minor": 4
}
